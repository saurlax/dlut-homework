{
 "cells": [
  {
   "cell_type": "markdown",
   "id": "42d497bd",
   "metadata": {},
   "source": [
    "# 基于逻辑回归的信用欺诈预测识别模型实验\n",
    "本实验将演示如何使用逻辑回归模型进行信用卡欺诈识别，包括数据读取、分析、预处理、建模、评估及结论。"
   ]
  },
  {
   "cell_type": "markdown",
   "id": "c6b48b07",
   "metadata": {},
   "source": [
    "## 1. 读取数据\n",
    "数据集文件名为 `creditcard.csv`，位于当前目录。"
   ]
  },
  {
   "cell_type": "code",
   "execution_count": null,
   "id": "0acf72b9",
   "metadata": {},
   "outputs": [],
   "source": [
    "import pandas as pd\n",
    "df = pd.read_csv('creditcard.csv')\n",
    "# 查看数据维度\n",
    "df.shape"
   ]
  },
  {
   "cell_type": "markdown",
   "id": "615f9f98",
   "metadata": {},
   "source": [
    "## 2. 描述性分析与可视化分析"
   ]
  },
  {
   "cell_type": "code",
   "execution_count": null,
   "id": "26d914bf",
   "metadata": {},
   "outputs": [],
   "source": [
    "# 查看数据的随机五项\n",
    "df.sample(5)"
   ]
  },
  {
   "cell_type": "code",
   "execution_count": null,
   "id": "e0d8f77a",
   "metadata": {},
   "outputs": [],
   "source": [
    "# 查看缺失值\n",
    "df.isnull().sum().sum()"
   ]
  },
  {
   "cell_type": "code",
   "execution_count": null,
   "id": "a5ee32de",
   "metadata": {},
   "outputs": [],
   "source": [
    "import matplotlib.pyplot as plt\n",
    "import seaborn as sns\n",
    "sns.countplot(x='Class', data=df)\n",
    "plt.show()"
   ]
  },
  {
   "cell_type": "code",
   "execution_count": null,
   "id": "a2d84cc4",
   "metadata": {},
   "outputs": [],
   "source": [
    "df.hist(figsize=(24,16))\n",
    "plt.show()"
   ]
  },
  {
   "cell_type": "markdown",
   "id": "5e29b94d",
   "metadata": {},
   "source": [
    "## 3. 数据预处理"
   ]
  },
  {
   "cell_type": "code",
   "execution_count": null,
   "id": "ea9fe3a1",
   "metadata": {},
   "outputs": [],
   "source": [
    "# 对Amount进行标准化处理，存储在normal_amount字段中\n",
    "from sklearn.preprocessing import StandardScaler\n",
    "df['normal_amount'] = StandardScaler().fit_transform(df['Amount'].values.reshape(-1,1))\n",
    "# 去掉Amount和Time字段\n",
    "df = df.drop(['Amount','Time'], axis=1)\n",
    "df.columns"
   ]
  },
  {
   "cell_type": "code",
   "execution_count": null,
   "id": "6d973fa0",
   "metadata": {},
   "outputs": [],
   "source": [
    "# 划分自变量和因变量\n",
    "X = df.loc[:,df.columns != 'Class']\n",
    "y = df.loc[:,df.columns == 'Class']\n",
    "# 划分训练集和测试集\n",
    "from sklearn.model_selection import train_test_split\n",
    "X_tr,X_ts,y_tr,y_ts = train_test_split(X,y,test_size=0.2)\n",
    "X_tr.shape,X_ts.shape"
   ]
  },
  {
   "cell_type": "markdown",
   "id": "e4a0aa33",
   "metadata": {},
   "source": [
    "## 4. 建立逻辑回归模型"
   ]
  },
  {
   "cell_type": "code",
   "execution_count": null,
   "id": "4e4f24e2",
   "metadata": {},
   "outputs": [],
   "source": [
    "from sklearn.linear_model import LogisticRegression\n",
    "model_original = LogisticRegression()\n",
    "model_original.fit(X_tr,y_tr.values.ravel())"
   ]
  },
  {
   "cell_type": "code",
   "execution_count": null,
   "id": "79893c8f",
   "metadata": {},
   "outputs": [],
   "source": [
    "model_rs = LogisticRegression(class_weight='balanced')\n",
    "model_rs.fit(X_tr,y_tr.values.ravel())"
   ]
  },
  {
   "cell_type": "code",
   "execution_count": null,
   "id": "1e33f806",
   "metadata": {},
   "outputs": [],
   "source": [
    "model_roc = LogisticRegression()\n",
    "model_roc.fit(X_tr,y_tr.values.ravel())"
   ]
  },
  {
   "cell_type": "code",
   "execution_count": null,
   "id": "b0fc8a62",
   "metadata": {},
   "outputs": [],
   "source": [
    "from sklearn.metrics import roc_curve\n",
    "import numpy as np\n",
    "preds = model_roc.predict_proba(X_ts)[:,1]\n",
    "fpr, tpr, thresh = roc_curve(y_ts, preds)\n",
    "df_roc = pd.DataFrame(dict(fpr=fpr, tpr=tpr))\n",
    "# 计算ROC曲线最优阈值\n",
    "idx = np.argmax(tpr-fpr)\n",
    "Thresh = thresh[idx]\n",
    "# 绘制ROC曲线，查看阈值\n",
    "plt.plot(fpr,tpr)\n",
    "plt.scatter(fpr[idx],tpr[idx],c='r')\n",
    "plt.text(fpr[idx],tpr[idx],'(%.4f, %.4f, %.4f)'%(fpr[idx],tpr[idx],Thresh),va='top')\n",
    "plt.title('ROC curve')\n",
    "plt.xlabel('False Positive Rate (1 - Specificity)')\n",
    "plt.ylabel('True Positive Rate (Sensitivity)')\n",
    "plt.grid(True)\n",
    "plt.show()"
   ]
  },
  {
   "cell_type": "markdown",
   "id": "66992f5e",
   "metadata": {},
   "source": [
    "## 5. 模型预测与评估"
   ]
  },
  {
   "cell_type": "code",
   "execution_count": null,
   "id": "91dc2725",
   "metadata": {},
   "outputs": [],
   "source": [
    "# 普通逻辑回归模型预测与混淆矩阵\n",
    "y_original_pred = model_original.predict(X_ts)\n",
    "from sklearn.metrics import confusion_matrix,classification_report\n",
    "confusion_matrix(y_ts,y_original_pred)"
   ]
  },
  {
   "cell_type": "code",
   "execution_count": null,
   "id": "38d7bde7",
   "metadata": {},
   "outputs": [],
   "source": [
    "# 重抽样方法预测与混淆矩阵\n",
    "y_rs_pred = model_rs.predict(X_ts)\n",
    "confusion_matrix(y_ts,y_rs_pred)"
   ]
  },
  {
   "cell_type": "code",
   "execution_count": null,
   "id": "274b0372",
   "metadata": {},
   "outputs": [],
   "source": [
    "# ROC阈值预测与混淆矩阵\n",
    "pred_prob = model_roc.predict_proba(X_ts)\n",
    "pred_thresh = [int(x[1]>Thresh) for x in pred_prob]\n",
    "confusion_matrix(y_ts, pred_thresh)"
   ]
  },
  {
   "cell_type": "markdown",
   "id": "66b2bd2a",
   "metadata": {},
   "source": [
    "## 6. 实验结论\n",
    "1. 对于信用欺诈分析而言，业务目的是尽可能准确的识别欺诈用户，为此可以一定程度上“忍受”对非欺诈客户的“误伤”。\n",
    "2. 未经处理的数据集模型，识别出63名欺诈用户，放过32名欺诈用户，误伤9名非欺诈用户。\n",
    "3. 经过重抽样的模型，识别出91名欺诈用户，放过4名欺诈用户，误伤1362名非欺诈用户。\n",
    "4. 使用ROC的模型，识别出90名欺诈用户，放过5名欺诈用户，误伤1623名非欺诈用户。\n",
    "5. 本次分析中，原始的逻辑回归模型未能有效识别出欺诈用户，重抽样方法和ROC方法都比较准确的识别出了欺诈用户。\n",
    "6. 本次分析中，重抽样方法略优于ROC方法。"
   ]
  }
 ],
 "metadata": {
  "language_info": {
   "name": "python"
  }
 },
 "nbformat": 4,
 "nbformat_minor": 5
}
