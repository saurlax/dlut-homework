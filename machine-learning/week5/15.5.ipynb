{
 "cells": [
  {
   "cell_type": "markdown",
   "id": "c995f013",
   "metadata": {},
   "source": [
    "# 基于 Bagging 的糖尿病预测模型（Pima Indians Diabetes）\n",
    "\n",
    "本实验将基于“皮马印第安人糖尿病”数据集，分别构建单棵决策树分类器与以决策树为基分类器的 Bagging 集成模型，对糖尿病发病情况进行预测与评估。\n",
    "\n",
    "## 知识点\n",
    "- Bagging 通过多个基分类器对样本进行“投票”得到最终分类；\n",
    "- 集成学习需要采用其他算法作为基分类器（本实验采用决策树）；\n",
    "- 当基分类器准确率大于 50% 时，集成学习通常优于单一基分类器；\n",
    "- 通常基分类器数量越多，结果越稳定。\n",
    "\n",
    "## 实验目的\n",
    "1) 学习建立基于决策树的 Bagging 模型；\n",
    "2) 学习使用 Bagging 模型预测糖尿病发病情况。\n",
    "\n",
    "## 实验步骤概览\n",
    "1) 读取数据并查看前 5 行；\n",
    "2) 数据描述与可视化（统计描述、缺失值、直方图分布）；\n",
    "3) 数据预处理（特征/标签拆分、训练/测试集划分）；\n",
    "4) 建模（DecisionTree 与 BaggingClassifier）；\n",
    "5) 模型预测与评估（测试集 f1-score 与 accuracy）；\n",
    "6) 10 折交叉验证 f1-score；\n",
    "7) 得出实验结论。"
   ]
  },
  {
   "cell_type": "code",
   "execution_count": 8,
   "id": "56a718bf",
   "metadata": {},
   "outputs": [
    {
     "data": {
      "text/html": [
       "<div>\n",
       "<style scoped>\n",
       "    .dataframe tbody tr th:only-of-type {\n",
       "        vertical-align: middle;\n",
       "    }\n",
       "\n",
       "    .dataframe tbody tr th {\n",
       "        vertical-align: top;\n",
       "    }\n",
       "\n",
       "    .dataframe thead th {\n",
       "        text-align: right;\n",
       "    }\n",
       "</style>\n",
       "<table border=\"1\" class=\"dataframe\">\n",
       "  <thead>\n",
       "    <tr style=\"text-align: right;\">\n",
       "      <th></th>\n",
       "      <th>preg</th>\n",
       "      <th>plas</th>\n",
       "      <th>pres</th>\n",
       "      <th>skin</th>\n",
       "      <th>test</th>\n",
       "      <th>mass</th>\n",
       "      <th>pedi</th>\n",
       "      <th>age</th>\n",
       "      <th>class</th>\n",
       "    </tr>\n",
       "  </thead>\n",
       "  <tbody>\n",
       "    <tr>\n",
       "      <th>0</th>\n",
       "      <td>6</td>\n",
       "      <td>148</td>\n",
       "      <td>72</td>\n",
       "      <td>35</td>\n",
       "      <td>0</td>\n",
       "      <td>33.6</td>\n",
       "      <td>0.627</td>\n",
       "      <td>50</td>\n",
       "      <td>1</td>\n",
       "    </tr>\n",
       "    <tr>\n",
       "      <th>1</th>\n",
       "      <td>1</td>\n",
       "      <td>85</td>\n",
       "      <td>66</td>\n",
       "      <td>29</td>\n",
       "      <td>0</td>\n",
       "      <td>26.6</td>\n",
       "      <td>0.351</td>\n",
       "      <td>31</td>\n",
       "      <td>0</td>\n",
       "    </tr>\n",
       "    <tr>\n",
       "      <th>2</th>\n",
       "      <td>8</td>\n",
       "      <td>183</td>\n",
       "      <td>64</td>\n",
       "      <td>0</td>\n",
       "      <td>0</td>\n",
       "      <td>23.3</td>\n",
       "      <td>0.672</td>\n",
       "      <td>32</td>\n",
       "      <td>1</td>\n",
       "    </tr>\n",
       "    <tr>\n",
       "      <th>3</th>\n",
       "      <td>1</td>\n",
       "      <td>89</td>\n",
       "      <td>66</td>\n",
       "      <td>23</td>\n",
       "      <td>94</td>\n",
       "      <td>28.1</td>\n",
       "      <td>0.167</td>\n",
       "      <td>21</td>\n",
       "      <td>0</td>\n",
       "    </tr>\n",
       "    <tr>\n",
       "      <th>4</th>\n",
       "      <td>0</td>\n",
       "      <td>137</td>\n",
       "      <td>40</td>\n",
       "      <td>35</td>\n",
       "      <td>168</td>\n",
       "      <td>43.1</td>\n",
       "      <td>2.288</td>\n",
       "      <td>33</td>\n",
       "      <td>1</td>\n",
       "    </tr>\n",
       "  </tbody>\n",
       "</table>\n",
       "</div>"
      ],
      "text/plain": [
       "   preg  plas  pres  skin  test  mass   pedi  age  class\n",
       "0     6   148    72    35     0  33.6  0.627   50      1\n",
       "1     1    85    66    29     0  26.6  0.351   31      0\n",
       "2     8   183    64     0     0  23.3  0.672   32      1\n",
       "3     1    89    66    23    94  28.1  0.167   21      0\n",
       "4     0   137    40    35   168  43.1  2.288   33      1"
      ]
     },
     "execution_count": 8,
     "metadata": {},
     "output_type": "execute_result"
    }
   ],
   "source": [
    "# Code 001: 读取数据（本地相对路径）\n",
    "import pandas as pd\n",
    "\n",
    "df = pd.read_csv('pima-indians-diabetes.data.csv')\n",
    "\n",
    "# 查看前 5 行\n",
    "df.head()"
   ]
  },
  {
   "cell_type": "code",
   "execution_count": 9,
   "id": "588df07f",
   "metadata": {},
   "outputs": [
    {
     "name": "stdout",
     "output_type": "stream",
     "text": [
      "Describe:\n"
     ]
    },
    {
     "data": {
      "text/html": [
       "<div>\n",
       "<style scoped>\n",
       "    .dataframe tbody tr th:only-of-type {\n",
       "        vertical-align: middle;\n",
       "    }\n",
       "\n",
       "    .dataframe tbody tr th {\n",
       "        vertical-align: top;\n",
       "    }\n",
       "\n",
       "    .dataframe thead th {\n",
       "        text-align: right;\n",
       "    }\n",
       "</style>\n",
       "<table border=\"1\" class=\"dataframe\">\n",
       "  <thead>\n",
       "    <tr style=\"text-align: right;\">\n",
       "      <th></th>\n",
       "      <th>preg</th>\n",
       "      <th>plas</th>\n",
       "      <th>pres</th>\n",
       "      <th>skin</th>\n",
       "      <th>test</th>\n",
       "      <th>mass</th>\n",
       "      <th>pedi</th>\n",
       "      <th>age</th>\n",
       "      <th>class</th>\n",
       "    </tr>\n",
       "  </thead>\n",
       "  <tbody>\n",
       "    <tr>\n",
       "      <th>count</th>\n",
       "      <td>768.000000</td>\n",
       "      <td>768.000000</td>\n",
       "      <td>768.000000</td>\n",
       "      <td>768.000000</td>\n",
       "      <td>768.000000</td>\n",
       "      <td>768.000000</td>\n",
       "      <td>768.000000</td>\n",
       "      <td>768.000000</td>\n",
       "      <td>768.000000</td>\n",
       "    </tr>\n",
       "    <tr>\n",
       "      <th>mean</th>\n",
       "      <td>3.845052</td>\n",
       "      <td>120.894531</td>\n",
       "      <td>69.105469</td>\n",
       "      <td>20.536458</td>\n",
       "      <td>79.799479</td>\n",
       "      <td>31.992578</td>\n",
       "      <td>0.471876</td>\n",
       "      <td>33.240885</td>\n",
       "      <td>0.348958</td>\n",
       "    </tr>\n",
       "    <tr>\n",
       "      <th>std</th>\n",
       "      <td>3.369578</td>\n",
       "      <td>31.972618</td>\n",
       "      <td>19.355807</td>\n",
       "      <td>15.952218</td>\n",
       "      <td>115.244002</td>\n",
       "      <td>7.884160</td>\n",
       "      <td>0.331329</td>\n",
       "      <td>11.760232</td>\n",
       "      <td>0.476951</td>\n",
       "    </tr>\n",
       "    <tr>\n",
       "      <th>min</th>\n",
       "      <td>0.000000</td>\n",
       "      <td>0.000000</td>\n",
       "      <td>0.000000</td>\n",
       "      <td>0.000000</td>\n",
       "      <td>0.000000</td>\n",
       "      <td>0.000000</td>\n",
       "      <td>0.078000</td>\n",
       "      <td>21.000000</td>\n",
       "      <td>0.000000</td>\n",
       "    </tr>\n",
       "    <tr>\n",
       "      <th>25%</th>\n",
       "      <td>1.000000</td>\n",
       "      <td>99.000000</td>\n",
       "      <td>62.000000</td>\n",
       "      <td>0.000000</td>\n",
       "      <td>0.000000</td>\n",
       "      <td>27.300000</td>\n",
       "      <td>0.243750</td>\n",
       "      <td>24.000000</td>\n",
       "      <td>0.000000</td>\n",
       "    </tr>\n",
       "    <tr>\n",
       "      <th>50%</th>\n",
       "      <td>3.000000</td>\n",
       "      <td>117.000000</td>\n",
       "      <td>72.000000</td>\n",
       "      <td>23.000000</td>\n",
       "      <td>30.500000</td>\n",
       "      <td>32.000000</td>\n",
       "      <td>0.372500</td>\n",
       "      <td>29.000000</td>\n",
       "      <td>0.000000</td>\n",
       "    </tr>\n",
       "    <tr>\n",
       "      <th>75%</th>\n",
       "      <td>6.000000</td>\n",
       "      <td>140.250000</td>\n",
       "      <td>80.000000</td>\n",
       "      <td>32.000000</td>\n",
       "      <td>127.250000</td>\n",
       "      <td>36.600000</td>\n",
       "      <td>0.626250</td>\n",
       "      <td>41.000000</td>\n",
       "      <td>1.000000</td>\n",
       "    </tr>\n",
       "    <tr>\n",
       "      <th>max</th>\n",
       "      <td>17.000000</td>\n",
       "      <td>199.000000</td>\n",
       "      <td>122.000000</td>\n",
       "      <td>99.000000</td>\n",
       "      <td>846.000000</td>\n",
       "      <td>67.100000</td>\n",
       "      <td>2.420000</td>\n",
       "      <td>81.000000</td>\n",
       "      <td>1.000000</td>\n",
       "    </tr>\n",
       "  </tbody>\n",
       "</table>\n",
       "</div>"
      ],
      "text/plain": [
       "             preg        plas        pres        skin        test        mass  \\\n",
       "count  768.000000  768.000000  768.000000  768.000000  768.000000  768.000000   \n",
       "mean     3.845052  120.894531   69.105469   20.536458   79.799479   31.992578   \n",
       "std      3.369578   31.972618   19.355807   15.952218  115.244002    7.884160   \n",
       "min      0.000000    0.000000    0.000000    0.000000    0.000000    0.000000   \n",
       "25%      1.000000   99.000000   62.000000    0.000000    0.000000   27.300000   \n",
       "50%      3.000000  117.000000   72.000000   23.000000   30.500000   32.000000   \n",
       "75%      6.000000  140.250000   80.000000   32.000000  127.250000   36.600000   \n",
       "max     17.000000  199.000000  122.000000   99.000000  846.000000   67.100000   \n",
       "\n",
       "             pedi         age       class  \n",
       "count  768.000000  768.000000  768.000000  \n",
       "mean     0.471876   33.240885    0.348958  \n",
       "std      0.331329   11.760232    0.476951  \n",
       "min      0.078000   21.000000    0.000000  \n",
       "25%      0.243750   24.000000    0.000000  \n",
       "50%      0.372500   29.000000    0.000000  \n",
       "75%      0.626250   41.000000    1.000000  \n",
       "max      2.420000   81.000000    1.000000  "
      ]
     },
     "metadata": {},
     "output_type": "display_data"
    },
    {
     "name": "stdout",
     "output_type": "stream",
     "text": [
      "\n",
      "Missing values per column:\n"
     ]
    },
    {
     "data": {
      "text/plain": [
       "preg     0\n",
       "plas     0\n",
       "pres     0\n",
       "skin     0\n",
       "test     0\n",
       "mass     0\n",
       "pedi     0\n",
       "age      0\n",
       "class    0\n",
       "dtype: int64"
      ]
     },
     "metadata": {},
     "output_type": "display_data"
    }
   ],
   "source": [
    "# Code 002/003: 统计描述与缺失值\n",
    "# 统计分布\n",
    "print('Describe:')\n",
    "display(df.describe())\n",
    "\n",
    "# 缺失值统计\n",
    "print('\\nMissing values per column:')\n",
    "display(df.isnull().sum())"
   ]
  },
  {
   "cell_type": "code",
   "execution_count": 10,
   "id": "0bc6ecb9",
   "metadata": {},
   "outputs": [
    {
     "data": {
      "image/png": "[encoded data removed]",
      "text/plain": [
       "<Figure size 1000x800 with 9 Axes>"
      ]
     },
     "metadata": {},
     "output_type": "display_data"
    }
   ],
   "source": [
    "# Code 004: 直方图分布可视化\n",
    "import matplotlib.pyplot as plt\n",
    "\n",
    "ax = df.hist(figsize=(10, 8))\n",
    "plt.tight_layout()\n",
    "plt.show()"
   ]
  },
  {
   "cell_type": "code",
   "execution_count": 11,
   "id": "7ae2d4e3",
   "metadata": {},
   "outputs": [
    {
     "data": {
      "text/plain": [
       "((576, 8), (192, 8))"
      ]
     },
     "execution_count": 11,
     "metadata": {},
     "output_type": "execute_result"
    }
   ],
   "source": [
    "# Code 005: 数据预处理与划分\n",
    "from sklearn.model_selection import train_test_split\n",
    "\n",
    "# 划分自变量和因变量\n",
    "X = df.loc[:, df.columns != 'class']\n",
    "y = df.loc[:, 'class']  # 一维 Series，便于后续 sklearn 兼容\n",
    "\n",
    "# 划分训练集和测试集（设置随机种子确保可复现）\n",
    "X_tr, X_ts, y_tr, y_ts = train_test_split(X, y, test_size=0.25, random_state=42, stratify=y)\n",
    "X_tr.shape, X_ts.shape"
   ]
  },
  {
   "cell_type": "code",
   "execution_count": 12,
   "id": "49ea7ede",
   "metadata": {},
   "outputs": [],
   "source": [
    "# Code 006: 构建与训练模型（决策树与 Bagging）\n",
    "from sklearn.tree import DecisionTreeClassifier\n",
    "from sklearn.ensemble import BaggingClassifier\n",
    "\n",
    "# 决策树作为基分类器\n",
    "dtc = DecisionTreeClassifier(random_state=42)\n",
    "\n",
    "# 兼容新旧版本 sklearn：在 1.2+ 使用 estimator 参数；旧版本使用 base_estimator\n",
    "try:\n",
    "    bgc = BaggingClassifier(estimator=dtc, n_estimators=100, random_state=42)\n",
    "except TypeError:\n",
    "    bgc = BaggingClassifier(base_estimator=dtc, n_estimators=100, random_state=42)\n",
    "\n",
    "# 拟合模型\n",
    "dtc = dtc.fit(X_tr, y_tr)\n",
    "bgc = bgc.fit(X_tr, y_tr)"
   ]
  },
  {
   "cell_type": "code",
   "execution_count": 13,
   "id": "0509d148",
   "metadata": {},
   "outputs": [
    {
     "name": "stdout",
     "output_type": "stream",
     "text": [
      "DecisionTree on test set:\n",
      "  f1-score:   0.6016\n",
      "  accuracy:   0.7448\n",
      "\n",
      "Bagging (DecisionTree) on test set:\n",
      "  f1-score:   0.6341\n",
      "  accuracy:   0.7656\n"
     ]
    }
   ],
   "source": [
    "# Code 007: 测试集预测与评估\n",
    "from sklearn.metrics import f1_score, accuracy_score\n",
    "\n",
    "y_dtc_pred = dtc.predict(X_ts)\n",
    "y_bgc_pred = bgc.predict(X_ts)\n",
    "\n",
    "print('DecisionTree on test set:')\n",
    "print('  f1-score:   %.4f' % f1_score(y_ts, y_dtc_pred))\n",
    "print('  accuracy:   %.4f\\n' % accuracy_score(y_ts, y_dtc_pred))\n",
    "\n",
    "print('Bagging (DecisionTree) on test set:')\n",
    "print('  f1-score:   %.4f' % f1_score(y_ts, y_bgc_pred))\n",
    "print('  accuracy:   %.4f' % accuracy_score(y_ts, y_bgc_pred))"
   ]
  },
  {
   "cell_type": "code",
   "execution_count": 14,
   "id": "4913b931",
   "metadata": {},
   "outputs": [
    {
     "name": "stdout",
     "output_type": "stream",
     "text": [
      "10-fold CV f1-score (DecisionTree): 0.5661\n",
      "10-fold CV f1-score (Bagging):      0.6493\n"
     ]
    }
   ],
   "source": [
    "# Code 008/009: 10 折交叉验证 f1-score（决策树 与 Bagging）\n",
    "from sklearn.model_selection import cross_val_score\n",
    "\n",
    "# 注意：交叉验证应在完整数据 X, y 上执行（而非仅训练集）\n",
    "dtc_cv_f1 = cross_val_score(dtc, X, y, scoring='f1', cv=10).mean()\n",
    "\n",
    "# Bagging 使用相同的基分类器配置\n",
    "tmp_dtc = DecisionTreeClassifier(random_state=42)\n",
    "try:\n",
    "    bgc_cv_model = BaggingClassifier(estimator=tmp_dtc, n_estimators=100, random_state=42)\n",
    "except TypeError:\n",
    "    bgc_cv_model = BaggingClassifier(base_estimator=tmp_dtc, n_estimators=100, random_state=42)\n",
    "\n",
    "bgc_cv_f1 = cross_val_score(bgc_cv_model, X, y, scoring='f1', cv=10).mean()\n",
    "\n",
    "print('10-fold CV f1-score (DecisionTree): %.4f' % dtc_cv_f1)\n",
    "print('10-fold CV f1-score (Bagging):      %.4f' % bgc_cv_f1)"
   ]
  },
  {
   "cell_type": "markdown",
   "id": "d5795ae9",
   "metadata": {},
   "source": [
    "## 实验结论\n",
    "\n",
    "- 在本案例中，Bagging 模型通常较单一决策树取得更高、更稳定的性能（f1-score 与 accuracy）。\n",
    "- 参考给定实验：\n",
    "  - 决策树测试集 f1-score ≈ 0.6309，accuracy ≈ 0.7135；\n",
    "  - Bagging 测试集 f1-score ≈ 0.6715，accuracy ≈ 0.7656；\n",
    "  - 决策树 10 折交叉验证 f1 ≈ 0.5769；\n",
    "  - Bagging 10 折交叉验证 f1 ≈ 0.6253。\n",
    "- 实际数值可能因随机种子、数据划分、库版本而略有偏差，但总体趋势依旧：Bagging 优于单棵决策树。"
   ]
  }
 ],
 "metadata": {
  "kernelspec": {
   "display_name": "Python 3",
   "language": "python",
   "name": "python3"
  },
  "language_info": {
   "codemirror_mode": {
    "name": "ipython",
    "version": 3
   },
   "file_extension": ".py",
   "mimetype": "text/x-python",
   "name": "python",
   "nbconvert_exporter": "python",
   "pygments_lexer": "ipython3",
   "version": "3.13.8"
  }
 },
 "nbformat": 4,
 "nbformat_minor": 5
}
